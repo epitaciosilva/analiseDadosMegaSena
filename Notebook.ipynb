{
 "cells": [
  {
   "cell_type": "markdown",
   "metadata": {},
   "source": [
    "# Dicas para acertar na Mega Sena\n",
    "\n",
    "A maioria das pessoas que já ouviram falar sobre os prêmios da mega sena, com certeza já desejaram ganhar pelos um. Não é fácil, uma vez que deve-se apostar exatamente nos seis números sorteadoss de 01 a 60. Porém, ao termino desta pesquisa, você com certeza irá mudar a sua forma de jogar. \n",
    "\n",
    "Com base nas informações de todos os sorteios de 1996 a 2018, esse trabalho irá responder aos seguintes questionamentos:\n",
    "- É interessante realizar uma aposta com alguns números consecutivos?\n",
    "- E apostar em números na mesma linha vertical ou horizontal?\n",
    "- Quais as dezenas mais e menos sorteados?"
   ]
  },
  {
   "cell_type": "code",
   "execution_count": 78,
   "metadata": {
    "scrolled": true
   },
   "outputs": [
    {
     "data": {
      "text/html": [
       "<div>\n",
       "<style scoped>\n",
       "    .dataframe tbody tr th:only-of-type {\n",
       "        vertical-align: middle;\n",
       "    }\n",
       "\n",
       "    .dataframe tbody tr th {\n",
       "        vertical-align: top;\n",
       "    }\n",
       "\n",
       "    .dataframe thead th {\n",
       "        text-align: right;\n",
       "    }\n",
       "</style>\n",
       "<table border=\"1\" class=\"dataframe\">\n",
       "  <thead>\n",
       "    <tr style=\"text-align: right;\">\n",
       "      <th></th>\n",
       "      <th>Concurso</th>\n",
       "      <th>Data Sorteio</th>\n",
       "      <th>Dezena1</th>\n",
       "      <th>Dezena2</th>\n",
       "      <th>Dezena3</th>\n",
       "      <th>Dezena4</th>\n",
       "      <th>Dezena5</th>\n",
       "      <th>Dezena6</th>\n",
       "      <th>Arrecadacao_Total</th>\n",
       "      <th>Ganhadores_Sena</th>\n",
       "      <th>Rateio_Sena</th>\n",
       "      <th>Ganhadores_Quina</th>\n",
       "      <th>Rateio_Quina</th>\n",
       "      <th>Ganhadores_Quadra</th>\n",
       "      <th>Rateio_Quadra</th>\n",
       "      <th>Acumulado</th>\n",
       "      <th>Valor_Acumulado</th>\n",
       "      <th>Estimativa_Prêmio</th>\n",
       "    </tr>\n",
       "  </thead>\n",
       "  <tbody>\n",
       "    <tr>\n",
       "      <th>0</th>\n",
       "      <td>1</td>\n",
       "      <td>1996-03-11</td>\n",
       "      <td>41</td>\n",
       "      <td>5</td>\n",
       "      <td>4</td>\n",
       "      <td>52</td>\n",
       "      <td>30</td>\n",
       "      <td>33</td>\n",
       "      <td>0.0</td>\n",
       "      <td>0</td>\n",
       "      <td>0.00</td>\n",
       "      <td>17</td>\n",
       "      <td>39158.92</td>\n",
       "      <td>2016</td>\n",
       "      <td>330.21</td>\n",
       "      <td>SIM</td>\n",
       "      <td>1714650.23</td>\n",
       "      <td>0</td>\n",
       "    </tr>\n",
       "    <tr>\n",
       "      <th>1</th>\n",
       "      <td>2</td>\n",
       "      <td>1996-03-18</td>\n",
       "      <td>9</td>\n",
       "      <td>39</td>\n",
       "      <td>37</td>\n",
       "      <td>49</td>\n",
       "      <td>43</td>\n",
       "      <td>41</td>\n",
       "      <td>0.0</td>\n",
       "      <td>1</td>\n",
       "      <td>2307162.23</td>\n",
       "      <td>65</td>\n",
       "      <td>14424.02</td>\n",
       "      <td>4488</td>\n",
       "      <td>208.91</td>\n",
       "      <td>NÃO</td>\n",
       "      <td>0.00</td>\n",
       "      <td>0</td>\n",
       "    </tr>\n",
       "    <tr>\n",
       "      <th>2</th>\n",
       "      <td>3</td>\n",
       "      <td>1996-03-25</td>\n",
       "      <td>36</td>\n",
       "      <td>30</td>\n",
       "      <td>10</td>\n",
       "      <td>11</td>\n",
       "      <td>29</td>\n",
       "      <td>47</td>\n",
       "      <td>0.0</td>\n",
       "      <td>2</td>\n",
       "      <td>391192.51</td>\n",
       "      <td>62</td>\n",
       "      <td>10515.93</td>\n",
       "      <td>4261</td>\n",
       "      <td>153.01</td>\n",
       "      <td>NÃO</td>\n",
       "      <td>0.00</td>\n",
       "      <td>0</td>\n",
       "    </tr>\n",
       "    <tr>\n",
       "      <th>3</th>\n",
       "      <td>4</td>\n",
       "      <td>1996-04-01</td>\n",
       "      <td>6</td>\n",
       "      <td>59</td>\n",
       "      <td>42</td>\n",
       "      <td>27</td>\n",
       "      <td>1</td>\n",
       "      <td>5</td>\n",
       "      <td>0.0</td>\n",
       "      <td>0</td>\n",
       "      <td>0.00</td>\n",
       "      <td>39</td>\n",
       "      <td>15322.24</td>\n",
       "      <td>3311</td>\n",
       "      <td>180.48</td>\n",
       "      <td>SIM</td>\n",
       "      <td>717080.75</td>\n",
       "      <td>0</td>\n",
       "    </tr>\n",
       "    <tr>\n",
       "      <th>4</th>\n",
       "      <td>5</td>\n",
       "      <td>1996-04-08</td>\n",
       "      <td>1</td>\n",
       "      <td>19</td>\n",
       "      <td>46</td>\n",
       "      <td>6</td>\n",
       "      <td>16</td>\n",
       "      <td>2</td>\n",
       "      <td>0.0</td>\n",
       "      <td>0</td>\n",
       "      <td>0.00</td>\n",
       "      <td>98</td>\n",
       "      <td>5318.10</td>\n",
       "      <td>5399</td>\n",
       "      <td>96.53</td>\n",
       "      <td>SIM</td>\n",
       "      <td>1342488.85</td>\n",
       "      <td>0</td>\n",
       "    </tr>\n",
       "  </tbody>\n",
       "</table>\n",
       "</div>"
      ],
      "text/plain": [
       "   Concurso Data Sorteio  Dezena1  Dezena2  Dezena3  Dezena4  Dezena5  \\\n",
       "0         1   1996-03-11       41        5        4       52       30   \n",
       "1         2   1996-03-18        9       39       37       49       43   \n",
       "2         3   1996-03-25       36       30       10       11       29   \n",
       "3         4   1996-04-01        6       59       42       27        1   \n",
       "4         5   1996-04-08        1       19       46        6       16   \n",
       "\n",
       "   Dezena6  Arrecadacao_Total  Ganhadores_Sena  Rateio_Sena  Ganhadores_Quina  \\\n",
       "0       33                0.0                0         0.00                17   \n",
       "1       41                0.0                1   2307162.23                65   \n",
       "2       47                0.0                2    391192.51                62   \n",
       "3        5                0.0                0         0.00                39   \n",
       "4        2                0.0                0         0.00                98   \n",
       "\n",
       "   Rateio_Quina  Ganhadores_Quadra  Rateio_Quadra Acumulado  Valor_Acumulado  \\\n",
       "0      39158.92               2016         330.21       SIM       1714650.23   \n",
       "1      14424.02               4488         208.91       NÃO             0.00   \n",
       "2      10515.93               4261         153.01       NÃO             0.00   \n",
       "3      15322.24               3311         180.48       SIM        717080.75   \n",
       "4       5318.10               5399          96.53       SIM       1342488.85   \n",
       "\n",
       "   Estimativa_Prêmio  \n",
       "0                  0  \n",
       "1                  0  \n",
       "2                  0  \n",
       "3                  0  \n",
       "4                  0  "
      ]
     },
     "execution_count": 78,
     "metadata": {},
     "output_type": "execute_result"
    }
   ],
   "source": [
    "# Importando o pandas, matplotlib e lendo a base de dados.\n",
    "import pandas as pd\n",
    "import numpy as np\n",
    "import matplotlib.pyplot as plt\n",
    "data = pd.read_excel('basedados.xlsx')\n",
    "data.head()"
   ]
  },
  {
   "cell_type": "markdown",
   "metadata": {},
   "source": [
    "### 1. Verificações e atualizações na base de dados\n",
    "As informações contidas na base de dados disponibilizada pela caixa econômica federal, não têm as indicações se os sorteios possuem números consecutivos, pertencentes a uma mesma linha vertical ou horizontal. Com base nisso, é preciso verificar através de alguns algorítmos se há ou não um ou mais desses casos em cada sorteio."
   ]
  },
  {
   "cell_type": "code",
   "execution_count": 64,
   "metadata": {
    "scrolled": true
   },
   "outputs": [],
   "source": [
    "#Percorre linha a linha e verificar se têm pelo menos dois números consecutivos, \n",
    "#pertencentes a uma mesma linha horizontal ou vertical\n",
    "def verificacoes(rows):\n",
    "    #O sorted ordena as núereros para facilitar a verificação.\n",
    "    dezenas = sorted(rows[['Dezena1', 'Dezena2', 'Dezena3', 'Dezena4', 'Dezena5', 'Dezena6']])\n",
    "    rows['Consecutivos'] = False\n",
    "    rows['MesmaLinhaHorizontal'] = False\n",
    "    rows['MesmaLinhaVertical'] = False\n",
    "    \n",
    "    for index,dezena in enumerate(dezenas[0:-1]):\n",
    "        #Verifica se a dezena atual está dentro da mesma linha da dezena seguinte.\n",
    "        #i representa a primeira coluna do jogo, variando de 10 em 10 começando do 1. \n",
    "        # Como se fosse \"for i in [1,11,21,31,41,51]:\"\n",
    "        for i in range(1,60,10):\n",
    "            #Para melhorar o processamento, não verificar caso já tenha sido confirmado que sorteio atual,\n",
    "            #possui números pertencentes a uma mesma linha horizontal\n",
    "            if(rows['MesmaLinhaVertical'] == False and \\\n",
    "               dezena <= i+9 and dezena >= i and dezenas[index+1] >= i and dezenas[index+1] <= i+9):\n",
    "                rows['MesmaLinhaHorizontal'] = True\n",
    "                \n",
    "        for i in dezenas[0:-1]:\n",
    "            if(rows['MesmaLinhaVertical'] == False and dezena != i and str(dezena)[-1] == str(i)[-1]):\n",
    "                rows['MesmaLinhaVertical'] = True\n",
    "                \n",
    "        #se o número seguinte menos o atual for igual a 1 é por que são consecutivos. \n",
    "        if dezenas[index+1]-dezena == 1:\n",
    "            rows['Consecutivos'] = True\n",
    "\n",
    "    return rows"
   ]
  },
  {
   "cell_type": "code",
   "execution_count": 65,
   "metadata": {},
   "outputs": [],
   "source": [
    "#Configurando dataframe\n",
    "data = data.apply(verificacoes, axis=1)"
   ]
  },
  {
   "cell_type": "markdown",
   "metadata": {},
   "source": [
    "## 2. Números consecutivos\n",
    "Após a aplicação das verificações e alterações na base de dados, é possível saber a porcentagem dos sorteios com números consecutivos ou não. Considerando P(c) como a porcentagem, T(c) como o total de sorteios com números consecutivos e T(s) como o total de sorteios, tem-se a seguinte fórmula:\n",
    "\n",
    "$$ P(c) = \\frac{T(c) \\times 100}{T(s)} $$\n",
    "\n",
    "Assim, pode-se realizar o cálculo com o algorítmo abaixo."
   ]
  },
  {
   "cell_type": "code",
   "execution_count": 66,
   "metadata": {},
   "outputs": [
    {
     "name": "stdout",
     "output_type": "stream",
     "text": [
      "Total de sorteios: 2025\n",
      "Porcentagem com números não consecutivos: 42.02%\n",
      "Porcentagem sem números não consecutivos: 57.98%\n"
     ]
    }
   ],
   "source": [
    "#Aplicando a fórmula do P(c).\n",
    "consecutivos = len(data.Consecutivos[data.Consecutivos == True])*100/len(data)\n",
    "naoConsecutivos = 100-consecutivos;\n",
    "\n",
    "#Imprimindo os resultados\n",
    "print(\"Total de sorteios: {0}\".format(len(data)))\n",
    "print(\"Porcentagem com números não consecutivos: {0:.2f}%\".format(consecutivos))\n",
    "print(\"Porcentagem sem números não consecutivos: {0:.2f}%\".format(naoConsecutivos))"
   ]
  },
  {
   "cell_type": "markdown",
   "metadata": {},
   "source": [
    "## 3. Números pertencentes a uma mesma linha na horizontal\n",
    "Tomando T(h) como o número total e P(h) como a porcentagem dos sorteios com números pertencente a uma mesma linha na horizontal, tem-se a seguinte expressão: \n",
    "\n",
    "$$ P(h) = \\frac{T(h) \\times 100}{T(s)} $$\n",
    "\n",
    "Com isso, tem-se o seguinte algorítmo:"
   ]
  },
  {
   "cell_type": "code",
   "execution_count": 67,
   "metadata": {},
   "outputs": [
    {
     "name": "stdout",
     "output_type": "stream",
     "text": [
      "Total de sorteios: 2025\n",
      "Porcentagem com números na mesma linha: 69.78%\n",
      "Porcentagem sem números na mesma linha: 30.22%\n"
     ]
    }
   ],
   "source": [
    "#Aplicando a fórmula de P(h).\n",
    "mesmaLinhaHorizontal = len(data.MesmaLinhaHorizontal[data.MesmaLinhaHorizontal == True])*100/len(data)\n",
    "naoMesmaLinhaHorizontal = 100-mesmaLinhaHorizontal;\n",
    "\n",
    "#Imprimindo os resultados\n",
    "print(\"Total de sorteios: {0}\".format(len(data)))\n",
    "print(\"Porcentagem com números na mesma linha: {0:.2f}%\".format(mesmaLinhaHorizontal))\n",
    "print(\"Porcentagem sem números na mesma linha: {0:.2f}%\".format(naoMesmaLinhaHorizontal))"
   ]
  },
  {
   "cell_type": "markdown",
   "metadata": {},
   "source": [
    "## 4. Números pertencentes a uma mesma linha na vertical\n",
    "Considerando T(v) como o número total e P(v) como a porcentagem dos sorteios com números pertencente a uma mesma linha na vertical, tem-se a seguinte expressão: \n",
    "\n",
    "$$ P(v) = \\frac{T(v) \\times 100}{T(s)} $$\n",
    "\n",
    "Com isso, tem-se o mesmo algorítmo do capítulo anterior, com apenas as variáveis  diferentes:"
   ]
  },
  {
   "cell_type": "code",
   "execution_count": 68,
   "metadata": {},
   "outputs": [
    {
     "name": "stdout",
     "output_type": "stream",
     "text": [
      "Total de sorteios: 2025\n",
      "Porcentagem com números na mesma linha: 62.77%\n",
      "Porcentagem sem números na mesma linha: 37.23%\n"
     ]
    }
   ],
   "source": [
    "#Aplicando a fórmula de P(v).\n",
    "mesmaLinhaVertical = len(data.MesmaLinhaVertical[data.MesmaLinhaVertical == True])*100/len(data)\n",
    "naoMesmaLinhaVertical = 100-mesmaLinhaVertical;\n",
    "\n",
    "#Imprimindo os resultados\n",
    "print(\"Total de sorteios: {0}\".format(len(data)))\n",
    "print(\"Porcentagem com números na mesma linha: {0:.2f}%\".format(mesmaLinhaVertical))\n",
    "print(\"Porcentagem sem números na mesma linha: {0:.2f}%\".format(naoMesmaLinhaVertical))"
   ]
  },
  {
   "cell_type": "markdown",
   "metadata": {},
   "source": [
    "## 5. Dezenas que mais e menos sorteadas"
   ]
  },
  {
   "cell_type": "code",
   "execution_count": 112,
   "metadata": {},
   "outputs": [],
   "source": [
    "colunas_dezenas = [\"Dezena1\", \"Dezena2\", \"Dezena3\", \"Dezena4\", \"Dezena5\", \"Dezena6\"]\n",
    "contagem_dezenas = data[colunas].unstack().value_counts()\n",
    "\n",
    "#mais sorteadads\n",
    "print(\"Mais Sorteadas: \\n{}\".format(contagem_dezenas[0:6]))\n",
    "\n",
    "#Menos sorteadads\n",
    "print(\"Mais Sorteadas: \\n{}\".format(contagem_dezenas[0:6]))"
   ]
  },
  {
   "cell_type": "code",
   "execution_count": null,
   "metadata": {},
   "outputs": [],
   "source": []
  }
 ],
 "metadata": {
  "kernelspec": {
   "display_name": "Python 3",
   "language": "python",
   "name": "python3"
  },
  "language_info": {
   "codemirror_mode": {
    "name": "ipython",
    "version": 3
   },
   "file_extension": ".py",
   "mimetype": "text/x-python",
   "name": "python",
   "nbconvert_exporter": "python",
   "pygments_lexer": "ipython3",
   "version": "3.6.4"
  }
 },
 "nbformat": 4,
 "nbformat_minor": 2
}
