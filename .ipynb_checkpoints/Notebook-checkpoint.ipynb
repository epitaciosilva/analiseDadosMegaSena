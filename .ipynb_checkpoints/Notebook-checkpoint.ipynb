{
 "cells": [
  {
   "cell_type": "markdown",
   "metadata": {},
   "source": [
    "# Curiosidades e dicas  para acertar na Mega Sena\n",
    "\n",
    "A maioria das pessoas que já ouviram falar sobre os prêmios da mega sena, com certeza já desejaram ganhar pelos um. Não é fácil, uma vez que deve-se apostar exatamente nos seis números sorteadoss de 01 a 60. Porém, ao termino desta pesquisa, você com certeza irá mudar sua forma de jogar. \n",
    "\n",
    "Com base nas informações de todos os sorteios de 1996 a 2018, ao termino deste trabalho você obterar as respostas para os seguintes questionanamentos:\n",
    "- É interessante realizar uma aposta com alguns números consecutivos?\n",
    "- E apostar em números na mesma linha vertical ou horizontal?\n",
    "- Quais foram as dezenas mais e menos sorteados?\n",
    "- E quais os últimos dígitos mais e menos presentes nas dezenas?\n",
    "\n",
    "O capítulo 2 irá responder a 1ª e a 2ª pergunta, voltado mais para as dicas do que deve ou não ser feito em um jogo. Já o capítulo 3 responderá a 3ª pergunta, mais voltado para uma curiosidade, mas que também pode lhe servir como ajuda. capítulo 4 irá responder a última pergunta, voltado para curiosidades e dicas. E o último é a conclusão do trabalho."
   ]
  },
  {
   "cell_type": "markdown",
   "metadata": {},
   "source": [
    "## Sumário\n",
    "\n",
    "- ###  [1. Preparando ambiente](#preparandoAmbiente)\n",
    "- ### [2. Análise das dezenas](#analiseDezenas)\n",
    "    - #### [2.1 Números Consecutivos](#numerosConsecutivos)\n",
    "    - #### [2.2 Números pertencentes a uma mesma linha na horizontal](#linhaHorizontal)\n",
    "    - #### [2.3 Números pertencentes a uma mesma linha na vertical](#linhaVertical)\n",
    "- ### [3. Dezenas mais e menos sorteadas](#dezenasSorteadas)\n",
    "- ### [4. Últimos dígitos mais e menos sorteadas](#digitosSorteadas)\n",
    "- ### [5. Conclusão](#conclusao)"
   ]
  },
  {
   "cell_type": "markdown",
   "metadata": {},
   "source": [
    "## <span id=\"preparandoAmbiente\"> 1. Preparando ambiente </span>"
   ]
  },
  {
   "cell_type": "code",
   "execution_count": 212,
   "metadata": {
    "scrolled": true
   },
   "outputs": [
    {
     "data": {
      "text/html": [
       "<div>\n",
       "<style scoped>\n",
       "    .dataframe tbody tr th:only-of-type {\n",
       "        vertical-align: middle;\n",
       "    }\n",
       "\n",
       "    .dataframe tbody tr th {\n",
       "        vertical-align: top;\n",
       "    }\n",
       "\n",
       "    .dataframe thead th {\n",
       "        text-align: right;\n",
       "    }\n",
       "</style>\n",
       "<table border=\"1\" class=\"dataframe\">\n",
       "  <thead>\n",
       "    <tr style=\"text-align: right;\">\n",
       "      <th></th>\n",
       "      <th>Concurso</th>\n",
       "      <th>Data Sorteio</th>\n",
       "      <th>Dezena1</th>\n",
       "      <th>Dezena2</th>\n",
       "      <th>Dezena3</th>\n",
       "      <th>Dezena4</th>\n",
       "      <th>Dezena5</th>\n",
       "      <th>Dezena6</th>\n",
       "      <th>Arrecadacao_Total</th>\n",
       "      <th>Ganhadores_Sena</th>\n",
       "      <th>Rateio_Sena</th>\n",
       "      <th>Ganhadores_Quina</th>\n",
       "      <th>Rateio_Quina</th>\n",
       "      <th>Ganhadores_Quadra</th>\n",
       "      <th>Rateio_Quadra</th>\n",
       "      <th>Acumulado</th>\n",
       "      <th>Valor_Acumulado</th>\n",
       "      <th>Estimativa_Prêmio</th>\n",
       "    </tr>\n",
       "  </thead>\n",
       "  <tbody>\n",
       "    <tr>\n",
       "      <th>0</th>\n",
       "      <td>1</td>\n",
       "      <td>1996-03-11</td>\n",
       "      <td>41</td>\n",
       "      <td>5</td>\n",
       "      <td>4</td>\n",
       "      <td>52</td>\n",
       "      <td>30</td>\n",
       "      <td>33</td>\n",
       "      <td>0.0</td>\n",
       "      <td>0</td>\n",
       "      <td>0.00</td>\n",
       "      <td>17</td>\n",
       "      <td>39158.92</td>\n",
       "      <td>2016</td>\n",
       "      <td>330.21</td>\n",
       "      <td>SIM</td>\n",
       "      <td>1714650.23</td>\n",
       "      <td>0</td>\n",
       "    </tr>\n",
       "    <tr>\n",
       "      <th>1</th>\n",
       "      <td>2</td>\n",
       "      <td>1996-03-18</td>\n",
       "      <td>9</td>\n",
       "      <td>39</td>\n",
       "      <td>37</td>\n",
       "      <td>49</td>\n",
       "      <td>43</td>\n",
       "      <td>41</td>\n",
       "      <td>0.0</td>\n",
       "      <td>1</td>\n",
       "      <td>2307162.23</td>\n",
       "      <td>65</td>\n",
       "      <td>14424.02</td>\n",
       "      <td>4488</td>\n",
       "      <td>208.91</td>\n",
       "      <td>NÃO</td>\n",
       "      <td>0.00</td>\n",
       "      <td>0</td>\n",
       "    </tr>\n",
       "    <tr>\n",
       "      <th>2</th>\n",
       "      <td>3</td>\n",
       "      <td>1996-03-25</td>\n",
       "      <td>36</td>\n",
       "      <td>30</td>\n",
       "      <td>10</td>\n",
       "      <td>11</td>\n",
       "      <td>29</td>\n",
       "      <td>47</td>\n",
       "      <td>0.0</td>\n",
       "      <td>2</td>\n",
       "      <td>391192.51</td>\n",
       "      <td>62</td>\n",
       "      <td>10515.93</td>\n",
       "      <td>4261</td>\n",
       "      <td>153.01</td>\n",
       "      <td>NÃO</td>\n",
       "      <td>0.00</td>\n",
       "      <td>0</td>\n",
       "    </tr>\n",
       "    <tr>\n",
       "      <th>3</th>\n",
       "      <td>4</td>\n",
       "      <td>1996-04-01</td>\n",
       "      <td>6</td>\n",
       "      <td>59</td>\n",
       "      <td>42</td>\n",
       "      <td>27</td>\n",
       "      <td>1</td>\n",
       "      <td>5</td>\n",
       "      <td>0.0</td>\n",
       "      <td>0</td>\n",
       "      <td>0.00</td>\n",
       "      <td>39</td>\n",
       "      <td>15322.24</td>\n",
       "      <td>3311</td>\n",
       "      <td>180.48</td>\n",
       "      <td>SIM</td>\n",
       "      <td>717080.75</td>\n",
       "      <td>0</td>\n",
       "    </tr>\n",
       "    <tr>\n",
       "      <th>4</th>\n",
       "      <td>5</td>\n",
       "      <td>1996-04-08</td>\n",
       "      <td>1</td>\n",
       "      <td>19</td>\n",
       "      <td>46</td>\n",
       "      <td>6</td>\n",
       "      <td>16</td>\n",
       "      <td>2</td>\n",
       "      <td>0.0</td>\n",
       "      <td>0</td>\n",
       "      <td>0.00</td>\n",
       "      <td>98</td>\n",
       "      <td>5318.10</td>\n",
       "      <td>5399</td>\n",
       "      <td>96.53</td>\n",
       "      <td>SIM</td>\n",
       "      <td>1342488.85</td>\n",
       "      <td>0</td>\n",
       "    </tr>\n",
       "  </tbody>\n",
       "</table>\n",
       "</div>"
      ],
      "text/plain": [
       "   Concurso Data Sorteio  Dezena1  Dezena2  Dezena3  Dezena4  Dezena5  \\\n",
       "0         1   1996-03-11       41        5        4       52       30   \n",
       "1         2   1996-03-18        9       39       37       49       43   \n",
       "2         3   1996-03-25       36       30       10       11       29   \n",
       "3         4   1996-04-01        6       59       42       27        1   \n",
       "4         5   1996-04-08        1       19       46        6       16   \n",
       "\n",
       "   Dezena6  Arrecadacao_Total  Ganhadores_Sena  Rateio_Sena  Ganhadores_Quina  \\\n",
       "0       33                0.0                0         0.00                17   \n",
       "1       41                0.0                1   2307162.23                65   \n",
       "2       47                0.0                2    391192.51                62   \n",
       "3        5                0.0                0         0.00                39   \n",
       "4        2                0.0                0         0.00                98   \n",
       "\n",
       "   Rateio_Quina  Ganhadores_Quadra  Rateio_Quadra Acumulado  Valor_Acumulado  \\\n",
       "0      39158.92               2016         330.21       SIM       1714650.23   \n",
       "1      14424.02               4488         208.91       NÃO             0.00   \n",
       "2      10515.93               4261         153.01       NÃO             0.00   \n",
       "3      15322.24               3311         180.48       SIM        717080.75   \n",
       "4       5318.10               5399          96.53       SIM       1342488.85   \n",
       "\n",
       "   Estimativa_Prêmio  \n",
       "0                  0  \n",
       "1                  0  \n",
       "2                  0  \n",
       "3                  0  \n",
       "4                  0  "
      ]
     },
     "execution_count": 212,
     "metadata": {},
     "output_type": "execute_result"
    }
   ],
   "source": [
    "# Importando o pandas, matplotlib e lendo a base de dados.\n",
    "import pandas as pd\n",
    "import matplotlib.pyplot as plt\n",
    "data = pd.read_excel('basedados.xlsx')\n",
    "data.head()"
   ]
  },
  {
   "cell_type": "markdown",
   "metadata": {},
   "source": [
    "## <span id=\"analiseDezenas\"> 2. Análise das dezenas </span>\n",
    "As informações contidas na base de dados disponibilizada pela caixa econômica federal, não têm as indicações se os sorteios possuem números consecutivos, pertencentes a uma mesma linha vertical ou horizontal. Com base nisso, é preciso verificar através de alguns algorítmos se há ou não um ou mais desses casos em cada sorteio."
   ]
  },
  {
   "cell_type": "code",
   "execution_count": 213,
   "metadata": {
    "scrolled": true
   },
   "outputs": [],
   "source": [
    "#Percorre linha a linha e verificar se têm pelo menos dois números consecutivos, \n",
    "#pertencentes a uma mesma linha horizontal ou vertical.\n",
    "def verificacoes(rows):\n",
    "    #O sorted ordena as dezenas para facilitar a verificação.\n",
    "    dezenas = sorted(rows[['Dezena1', 'Dezena2', 'Dezena3', 'Dezena4', 'Dezena5', 'Dezena6']])\n",
    "    rows['Consecutivos'] = False\n",
    "    rows['MesmaLinhaHorizontal'] = False\n",
    "    rows['MesmaLinhaVertical'] = False\n",
    "    \n",
    "    for index,dezena in enumerate(dezenas[0:-1]):\n",
    "        #Verifica se a dezena atual está dentro da mesma linha de uma das outras dezena.\n",
    "        #i representa a primeira coluna do jogo([1,11,21,31,41,51]), variando de 10 em 10 começando do 1. \n",
    "        for i in range(1,60,10):\n",
    "            #Para melhorar o processamento, não verificar caso já tenha sido confirmado que sorteio atual\n",
    "            #possui números pertencentes a uma mesma linha horizontal.\n",
    "            #i+9 representa os valores da última coluna [10,20,30,40,50,60].\n",
    "            if(rows['MesmaLinhaHorizontal'] == False and \\\n",
    "               dezena <= i+9 and dezena >= i and dezenas[index+1] >= i and dezenas[index+1] <= i+9):\n",
    "                rows['MesmaLinhaHorizontal'] = True\n",
    "        \n",
    "        for numero in dezenas[0:-1]:\n",
    "            #Ocorre o mesmo que na verificação das linhas horizontais.\n",
    "            if(rows['MesmaLinhaVertical'] == False and dezena != numero and dezena%10 == numero%10):\n",
    "                rows['MesmaLinhaVertical'] = True\n",
    "                \n",
    "        #se o número seguinte menos o atual for igual a 1 é por que são consecutivos. \n",
    "        if dezenas[index+1]-dezena == 1:\n",
    "            rows['Consecutivos'] = True\n",
    "\n",
    "    return rows"
   ]
  },
  {
   "cell_type": "code",
   "execution_count": 214,
   "metadata": {},
   "outputs": [],
   "source": [
    "#Configurando dataframe\n",
    "data = data.apply(verificacoes, axis=1)"
   ]
  },
  {
   "cell_type": "markdown",
   "metadata": {},
   "source": [
    "###  <span id=\"numerosConsecutivos\"> 2.1. Números consecutivos </span>\n",
    "Após a aplicação das verificações e alterações na base de dados, é possível saber a porcentagem dos sorteios com números consecutivos ou não. Considerando P(c) como a porcentagem, T(c) como o total de sorteios com números consecutivos e T(s) como o total de sorteios, tem-se a seguinte fórmula:\n",
    "\n",
    "$$ P(c) = \\frac{T(c) \\times 100}{T(s)} $$\n",
    "\n",
    "Assim, pode-se realizar o cálculo com o algorítmo abaixo."
   ]
  },
  {
   "cell_type": "code",
   "execution_count": 215,
   "metadata": {},
   "outputs": [
    {
     "name": "stdout",
     "output_type": "stream",
     "text": [
      "Total de sorteios: 2025\n",
      "Porcentagem dos sorteios com números consecutivos: 42.02%\n",
      "Porcentagem dos sorteios sem números consecutivos: 57.98%\n"
     ]
    }
   ],
   "source": [
    "#Aplicando a fórmula do P(c).\n",
    "consecutivos = len(data.Consecutivos[data.Consecutivos == True])*100/len(data)\n",
    "naoConsecutivos = 100-consecutivos;\n",
    "\n",
    "#Imprimindo os resultados\n",
    "print(\"Total de sorteios: {0}\".format(len(data)))\n",
    "print(\"Porcentagem dos sorteios com números consecutivos: {0:.2f}%\".format(consecutivos))\n",
    "print(\"Porcentagem dos sorteios sem números consecutivos: {0:.2f}%\".format(naoConsecutivos))"
   ]
  },
  {
   "cell_type": "markdown",
   "metadata": {},
   "source": [
    "Com base nos resultados acima, percebe-se que não apostar com números consecutivos é levemente mais propensos a darem certo. Contudo, a diferença entre as ocorrencias não é tão expressiva, chegando próximo de um meio a meio."
   ]
  },
  {
   "cell_type": "markdown",
   "metadata": {},
   "source": [
    "### <span id=\"linhaHorizontal\"> 2.2. Números pertencentes a uma mesma linha na horizontal </span>\n",
    "Tomando T(h) como o número total e P(h) como a porcentagem dos sorteios com números pertencente a uma mesma linha na horizontal, tem-se a seguinte expressão: \n",
    "\n",
    "$$ P(h) = \\frac{T(h) \\times 100}{T(s)} $$\n",
    "\n",
    "Com isso, tem-se abaixo o algorítmo aconpanhado dos resultados."
   ]
  },
  {
   "cell_type": "code",
   "execution_count": 216,
   "metadata": {
    "scrolled": false
   },
   "outputs": [],
   "source": [
    "#Aplicando a fórmula de P(h).\n",
    "mesmaLinhaHorizontal = len(data.MesmaLinhaHorizontal[data.MesmaLinhaHorizontal == True])*100/len(data)\n",
    "#Calculando a porcentagem dos sorteios sem números de uma mesma linha na horizontal.\n",
    "naoMesmaLinhaHorizontal = 100-mesmaLinhaHorizontal;"
   ]
  },
  {
   "cell_type": "code",
   "execution_count": 217,
   "metadata": {},
   "outputs": [
    {
     "name": "stdout",
     "output_type": "stream",
     "text": [
      "Porcentagem com números na mesma linha: 97.93%\n",
      "Porcentagem sem números na mesma linha: 2.07%\n",
      "Total de sorteios: 2025\n"
     ]
    }
   ],
   "source": [
    "#Imprimindo os resultados\n",
    "print(\"Porcentagem com números na mesma linha: {0:.2f}%\".format(mesmaLinhaHorizontal))\n",
    "print(\"Porcentagem sem números na mesma linha: {0:.2f}%\".format(naoMesmaLinhaHorizontal))\n",
    "print(\"Total de sorteios: {0}\".format(len(data)))"
   ]
  },
  {
   "cell_type": "markdown",
   "metadata": {},
   "source": [
    "Diferentemente do caso dos números consecutivos, neste caso há uma grande diferença, o que leva a crer que apostar em pelo menos dois números pertencentes a uma mesma linha, têm mais chances. "
   ]
  },
  {
   "cell_type": "markdown",
   "metadata": {},
   "source": [
    "### <span id=\"linhaVertical\"> 2.3 Números pertencentes a uma mesma linha na vertical </span>\n",
    "Considerando T(v) como o número total e P(v) como a porcentagem dos sorteios com números pertencente a uma mesma linha na vertical, tem-se a seguinte expressão: \n",
    "\n",
    "$$ P(v) = \\frac{T(v) \\times 100}{T(s)} $$\n",
    "\n",
    "Com isso, tem-se o mesmo algorítmo do capítulo anterior, com apenas as variáveis  diferentes:"
   ]
  },
  {
   "cell_type": "code",
   "execution_count": 218,
   "metadata": {},
   "outputs": [],
   "source": [
    "#Aplicando a fórmula de P(v).\n",
    "mesmaLinhaVertical = len(data.MesmaLinhaVertical[data.MesmaLinhaVertical == True])*100/len(data)\n",
    "#Calculando a porcentagem dos sorteios sem números de uma mesma linha na vertical.\n",
    "naoMesmaLinhaVertical = 100-mesmaLinhaVertical;"
   ]
  },
  {
   "cell_type": "code",
   "execution_count": 219,
   "metadata": {
    "scrolled": true
   },
   "outputs": [
    {
     "name": "stdout",
     "output_type": "stream",
     "text": [
      "Porcentagem com números na mesma linha: 62.77%\n",
      "Porcentagem sem números na mesma linha: 37.23%\n",
      "Total de sorteios: 2025\n"
     ]
    }
   ],
   "source": [
    "#Imprimindo os resultados\n",
    "print(\"Porcentagem com números na mesma linha: {0:.2f}%\".format(mesmaLinhaVertical))\n",
    "print(\"Porcentagem sem números na mesma linha: {0:.2f}%\".format(naoMesmaLinhaVertical))\n",
    "print(\"Total de sorteios: {0}\".format(len(data)))"
   ]
  },
  {
   "cell_type": "markdown",
   "metadata": {},
   "source": [
    "Neste caso, há uma certa diferença, mas não chega a ser tão grande quanto ao das linhas horizontais. Contudo, apostar em números que estejam dentro de uma mesma linha vertical não é ruim."
   ]
  },
  {
   "cell_type": "markdown",
   "metadata": {},
   "source": [
    "## <span id=\"dezenasSorteadas\"> 3. Dezenas mais e menos sorteadas </span>\n",
    "\n",
    "Para que os resultados indiquem se apostar em determinadas dezenas é interessante, é preciso prestar atenção na diferença do número total de repetições das mais e menos sorteadas. Apostar apenas nas mais sorteadas muito provavelmente não lhe dará o grande prêmio por apenas ser as que mais saem, senão muitos já teriam feito isso e ganhado várias vezes. "
   ]
  },
  {
   "cell_type": "code",
   "execution_count": 220,
   "metadata": {},
   "outputs": [],
   "source": [
    "#Colunas das dezenas sorteadas\n",
    "colunas_dezenas = [\"Dezena1\", \"Dezena2\", \"Dezena3\", \"Dezena4\", \"Dezena5\", \"Dezena6\"]\n",
    "\n",
    "#A função unstack() quebra os valores das colunas das dezenas para uma \"lista\", \n",
    "#possibilitando a chamada da função value_counts() que conta todos as repetições de cada valor,\n",
    "#retornando uma nova lista com os valores e o total de suas repetições. \n",
    "contagem_dezenas = data[colunas_dezenas].unstack().value_counts()"
   ]
  },
  {
   "cell_type": "code",
   "execution_count": 221,
   "metadata": {},
   "outputs": [
    {
     "name": "stdout",
     "output_type": "stream",
     "text": [
      "Total de dezenas sorteadas: 12150\n",
      "\n",
      "Mais Sorteadas: \n",
      "5     233\n",
      "53    230\n",
      "10    227\n",
      "23    224\n",
      "4     224\n",
      "54    221\n",
      "dtype: int64\n",
      "\n",
      "Menos Sorteadas: \n",
      "25    184\n",
      "9     183\n",
      "15    183\n",
      "21    178\n",
      "22    177\n",
      "55    174\n",
      "dtype: int64\n"
     ]
    }
   ],
   "source": [
    "#Total de sorteios vezes o número de dezenas sorteadas em cada um (seis).\n",
    "print(\"Total de dezenas sorteadas: {}\\n\".format(len(data)*6))\n",
    "\n",
    "#O value_counts() já retorna a lista ordenada dos mais à menos repetidos.\n",
    "#Assim, os seis primeiros elemetos são os que mais foram sorteados.\n",
    "print(\"Mais Sorteadas: \\n{}\".format(contagem_dezenas[0:6]))\n",
    "\n",
    "#E os seis últimos elemetos são os que menos foram sorteados.\n",
    "print(\"\\nMenos Sorteadas: \\n{}\".format(contagem_dezenas[-7:-1]))"
   ]
  },
  {
   "cell_type": "markdown",
   "metadata": {},
   "source": [
    "Com base nestes resultados, percebe-se que a diferença entre os mais e menos sorteados não é tão grande, o que confirma a ideia expressada acima, não ajudando muito na hora de apostar."
   ]
  },
  {
   "cell_type": "markdown",
   "metadata": {},
   "source": [
    "## <span id=\"digitosSorteadas\"> 4 Últimos dígitos mais e menos sorteadas </span>\n",
    "\n",
    "É interessante verificar se apostar em dezenas que terminam com determinados dígitos é uma boa ideia ou não, depois de saber quais as dezenas mais sorteadas."
   ]
  },
  {
   "cell_type": "code",
   "execution_count": 222,
   "metadata": {
    "scrolled": true
   },
   "outputs": [
    {
     "data": {
      "text/plain": [
       "3    1285\n",
       "4    1269\n",
       "2    1233\n",
       "0    1225\n",
       "7    1210\n",
       "8    1202\n",
       "1    1199\n",
       "6    1187\n",
       "5    1175\n",
       "9    1165\n",
       "dtype: int64"
      ]
     },
     "execution_count": 222,
     "metadata": {},
     "output_type": "execute_result"
    }
   ],
   "source": [
    "# Calcula o resto da divisão por 10 de todas as dezenas, ou seja, apenas o último dígito de cada uma.\n",
    "contagem_digitos =  data[colunas_dezenas]%10\n",
    "\n",
    "#Aplica o unstack e o value_counts, explicado anteriormente.\n",
    "contagem_digitos.unstack().value_counts()"
   ]
  },
  {
   "cell_type": "markdown",
   "metadata": {},
   "source": [
    "Semelhante ao caso das dezenas, a diferença entre a quantidade dos últimos dígitos de cada dezena não é tão grande, ao ponto de fazer uma sugestão interessante. Mas não custa nada tentar."
   ]
  },
  {
   "cell_type": "markdown",
   "metadata": {},
   "source": [
    "## <span id=\"conclusao\"> 5. Conclusão </span>\n",
    "\n",
    "Os resultados apresentados por esta pesquisa mostram que mesmo com ajuda da matemática e da programação, não é possível afirmar com certeza quais serão os próximos números da mega sena, apenas supor quais casos são mais prováveis de ocorrerem. Mesmo assim, essas dicas e/ou curiosidades são interessantes, pois se baseiam em resultados anteriores, valendo apena pensar nelas no momento em que for jogar."
   ]
  },
  {
   "cell_type": "code",
   "execution_count": null,
   "metadata": {},
   "outputs": [],
   "source": []
  }
 ],
 "metadata": {
  "kernelspec": {
   "display_name": "Python 3",
   "language": "python",
   "name": "python3"
  },
  "language_info": {
   "codemirror_mode": {
    "name": "ipython",
    "version": 3
   },
   "file_extension": ".py",
   "mimetype": "text/x-python",
   "name": "python",
   "nbconvert_exporter": "python",
   "pygments_lexer": "ipython3",
   "version": "3.6.4"
  }
 },
 "nbformat": 4,
 "nbformat_minor": 2
}
